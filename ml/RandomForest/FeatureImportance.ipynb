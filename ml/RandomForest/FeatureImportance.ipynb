{
  "cells": [
    {
      "cell_type": "markdown",
      "metadata": {},
      "source": [
        "# Random Forest Feature Importance\n",
        "\n",
        "Purpose: Fit a RandomForest and inspect feature importances; discuss permutation vs impurity.\n",
        "\n",
        "- Data: example `heart.csv` or dataset loaded in notebook\n",
        "- Steps: preprocess -> fit RF -> compute importances -> plot and interpret\n",
        "- Libraries: scikit-learn, pandas, numpy, matplotlib, seaborn\n"
      ]
    }
  ],
  "metadata": {
    "language_info": {
      "name": "python"
    }
  },
  "nbformat": 4,
  "nbformat_minor": 2
}
