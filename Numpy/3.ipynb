{
 "cells": [
  {
   "cell_type": "code",
   "execution_count": 1,
   "id": "8a9fa315",
   "metadata": {},
   "outputs": [],
   "source": [
    "import numpy as np"
   ]
  },
  {
   "cell_type": "code",
   "execution_count": 7,
   "id": "fa2139f4",
   "metadata": {},
   "outputs": [],
   "source": [
    "arr = np.array([1,2,3])\n",
    "\n"
   ]
  },
  {
   "cell_type": "code",
   "execution_count": 9,
   "id": "1d91cefa",
   "metadata": {},
   "outputs": [
    {
     "data": {
      "text/plain": [
       "array([1, 2, 3])"
      ]
     },
     "execution_count": 9,
     "metadata": {},
     "output_type": "execute_result"
    }
   ],
   "source": [
    "arr"
   ]
  },
  {
   "cell_type": "code",
   "execution_count": 10,
   "id": "550b8a3e",
   "metadata": {},
   "outputs": [
    {
     "data": {
      "text/plain": [
       "numpy.ndarray"
      ]
     },
     "execution_count": 10,
     "metadata": {},
     "output_type": "execute_result"
    }
   ],
   "source": [
    "type(arr)"
   ]
  },
  {
   "cell_type": "code",
   "execution_count": 12,
   "id": "df664a39",
   "metadata": {},
   "outputs": [
    {
     "data": {
      "text/plain": [
       "array([[1, 2, 3],\n",
       "       [4, 5, 6]])"
      ]
     },
     "execution_count": 12,
     "metadata": {},
     "output_type": "execute_result"
    }
   ],
   "source": [
    "arr1 = np.array([[1,2,3],[4,5,6]])\n",
    "arr1"
   ]
  },
  {
   "cell_type": "code",
   "execution_count": 13,
   "id": "5340b65a",
   "metadata": {},
   "outputs": [
    {
     "data": {
      "text/plain": [
       "(2, 3)"
      ]
     },
     "execution_count": 13,
     "metadata": {},
     "output_type": "execute_result"
    }
   ],
   "source": [
    "arr1.shape"
   ]
  },
  {
   "cell_type": "code",
   "execution_count": 30,
   "id": "e9176b82",
   "metadata": {},
   "outputs": [
    {
     "data": {
      "text/plain": [
       "array([[1, 2, 3],\n",
       "       [4, 5, 6]])"
      ]
     },
     "execution_count": 30,
     "metadata": {},
     "output_type": "execute_result"
    }
   ],
   "source": [
    "arr1"
   ]
  },
  {
   "cell_type": "code",
   "execution_count": null,
   "id": "400b5bf3",
   "metadata": {},
   "outputs": [
    {
     "data": {
      "text/plain": [
       "(3, 2)"
      ]
     },
     "execution_count": 33,
     "metadata": {},
     "output_type": "execute_result"
    }
   ],
   "source": [
    "np.ones(shape=(3,2))"
   ]
  },
  {
   "cell_type": "code",
   "execution_count": 34,
   "id": "8b3a1f1e",
   "metadata": {},
   "outputs": [
    {
     "data": {
      "text/plain": [
       "<code object ones at 0x000001F3765FDBB0, file \"c:\\Users\\nithi\\AppData\\Local\\Programs\\Python\\Python310\\lib\\site-packages\\numpy\\core\\numeric.py\", line 136>"
      ]
     },
     "execution_count": 34,
     "metadata": {},
     "output_type": "execute_result"
    }
   ],
   "source": [
    "np.ones.__code__"
   ]
  },
  {
   "cell_type": "code",
   "execution_count": 36,
   "id": "f992d4ce",
   "metadata": {},
   "outputs": [],
   "source": [
    "import numpy.core.multiarray as multiarray"
   ]
  },
  {
   "cell_type": "code",
   "execution_count": null,
   "id": "e23c4395",
   "metadata": {},
   "outputs": [],
   "source": [
    "a = multiarray.empty((3,2))\n"
   ]
  },
  {
   "cell_type": "code",
   "execution_count": 38,
   "id": "7877f2d8",
   "metadata": {},
   "outputs": [
    {
     "data": {
      "text/plain": [
       "array([[1., 1.],\n",
       "       [1., 1.],\n",
       "       [1., 1.]])"
      ]
     },
     "execution_count": 38,
     "metadata": {},
     "output_type": "execute_result"
    }
   ],
   "source": [
    "a"
   ]
  },
  {
   "cell_type": "code",
   "execution_count": 39,
   "id": "5eb58458",
   "metadata": {},
   "outputs": [],
   "source": [
    "multiarray.copyto(a, 2)"
   ]
  },
  {
   "cell_type": "code",
   "execution_count": 41,
   "id": "9f4ba85e",
   "metadata": {},
   "outputs": [
    {
     "data": {
      "text/plain": [
       "array([[1., 0., 0.],\n",
       "       [0., 1., 0.],\n",
       "       [0., 0., 1.]])"
      ]
     },
     "execution_count": 41,
     "metadata": {},
     "output_type": "execute_result"
    }
   ],
   "source": [
    "np.identity(3)"
   ]
  },
  {
   "cell_type": "code",
   "execution_count": 49,
   "id": "562c1973",
   "metadata": {},
   "outputs": [
    {
     "data": {
      "text/plain": [
       "array([ 5. ,  5.1,  5.2,  5.3,  5.4,  5.5,  5.6,  5.7,  5.8,  5.9,  6. ,\n",
       "        6.1,  6.2,  6.3,  6.4,  6.5,  6.6,  6.7,  6.8,  6.9,  7. ,  7.1,\n",
       "        7.2,  7.3,  7.4,  7.5,  7.6,  7.7,  7.8,  7.9,  8. ,  8.1,  8.2,\n",
       "        8.3,  8.4,  8.5,  8.6,  8.7,  8.8,  8.9,  9. ,  9.1,  9.2,  9.3,\n",
       "        9.4,  9.5,  9.6,  9.7,  9.8,  9.9, 10. , 10.1, 10.2, 10.3, 10.4,\n",
       "       10.5, 10.6, 10.7, 10.8, 10.9, 11. , 11.1, 11.2, 11.3, 11.4, 11.5,\n",
       "       11.6, 11.7, 11.8, 11.9, 12. , 12.1, 12.2, 12.3, 12.4, 12.5, 12.6,\n",
       "       12.7, 12.8, 12.9])"
      ]
     },
     "execution_count": 49,
     "metadata": {},
     "output_type": "execute_result"
    }
   ],
   "source": [
    "np.arange(5,13,0.1)"
   ]
  },
  {
   "cell_type": "code",
   "execution_count": 50,
   "id": "fefce661",
   "metadata": {},
   "outputs": [
    {
     "data": {
      "text/plain": [
       "array([10.        , 10.02020202, 10.04040404, 10.06060606, 10.08080808,\n",
       "       10.1010101 , 10.12121212, 10.14141414, 10.16161616, 10.18181818,\n",
       "       10.2020202 , 10.22222222, 10.24242424, 10.26262626, 10.28282828,\n",
       "       10.3030303 , 10.32323232, 10.34343434, 10.36363636, 10.38383838,\n",
       "       10.4040404 , 10.42424242, 10.44444444, 10.46464646, 10.48484848,\n",
       "       10.50505051, 10.52525253, 10.54545455, 10.56565657, 10.58585859,\n",
       "       10.60606061, 10.62626263, 10.64646465, 10.66666667, 10.68686869,\n",
       "       10.70707071, 10.72727273, 10.74747475, 10.76767677, 10.78787879,\n",
       "       10.80808081, 10.82828283, 10.84848485, 10.86868687, 10.88888889,\n",
       "       10.90909091, 10.92929293, 10.94949495, 10.96969697, 10.98989899,\n",
       "       11.01010101, 11.03030303, 11.05050505, 11.07070707, 11.09090909,\n",
       "       11.11111111, 11.13131313, 11.15151515, 11.17171717, 11.19191919,\n",
       "       11.21212121, 11.23232323, 11.25252525, 11.27272727, 11.29292929,\n",
       "       11.31313131, 11.33333333, 11.35353535, 11.37373737, 11.39393939,\n",
       "       11.41414141, 11.43434343, 11.45454545, 11.47474747, 11.49494949,\n",
       "       11.51515152, 11.53535354, 11.55555556, 11.57575758, 11.5959596 ,\n",
       "       11.61616162, 11.63636364, 11.65656566, 11.67676768, 11.6969697 ,\n",
       "       11.71717172, 11.73737374, 11.75757576, 11.77777778, 11.7979798 ,\n",
       "       11.81818182, 11.83838384, 11.85858586, 11.87878788, 11.8989899 ,\n",
       "       11.91919192, 11.93939394, 11.95959596, 11.97979798, 12.        ])"
      ]
     },
     "execution_count": 50,
     "metadata": {},
     "output_type": "execute_result"
    }
   ],
   "source": [
    "np.linspace(10,12,100)"
   ]
  },
  {
   "cell_type": "code",
   "execution_count": 51,
   "id": "244cdacb",
   "metadata": {},
   "outputs": [
    {
     "data": {
      "text/plain": [
       "(array([1, 2, 3]), array([3, 4, 5]))"
      ]
     },
     "execution_count": 51,
     "metadata": {},
     "output_type": "execute_result"
    }
   ],
   "source": [
    "arr1 = np.array([1,2,3])\n",
    "arr2 = np.array([3, 4, 5])\n",
    "\n",
    "arr1, arr2"
   ]
  },
  {
   "cell_type": "code",
   "execution_count": 52,
   "id": "cc40b534",
   "metadata": {},
   "outputs": [],
   "source": [
    "arr3 = arr1\n",
    "arr4 = arr1.copy()"
   ]
  },
  {
   "cell_type": "code",
   "execution_count": 54,
   "id": "97b21faa",
   "metadata": {},
   "outputs": [],
   "source": [
    "arr1 = np.array([1, 5, 3])"
   ]
  },
  {
   "cell_type": "code",
   "execution_count": 56,
   "id": "257f0765",
   "metadata": {},
   "outputs": [
    {
     "data": {
      "text/plain": [
       "(array([1, 2, 3]), array([1, 2, 3]))"
      ]
     },
     "execution_count": 56,
     "metadata": {},
     "output_type": "execute_result"
    }
   ],
   "source": [
    "arr3, arr4"
   ]
  },
  {
   "cell_type": "code",
   "execution_count": 60,
   "id": "22b9daf6",
   "metadata": {},
   "outputs": [
    {
     "data": {
      "text/plain": [
       "array([1, 5, 3])"
      ]
     },
     "execution_count": 60,
     "metadata": {},
     "output_type": "execute_result"
    }
   ],
   "source": [
    "arr1"
   ]
  },
  {
   "cell_type": "code",
   "execution_count": 59,
   "id": "e85e7944",
   "metadata": {},
   "outputs": [],
   "source": [
    "arr3 = np.array([7, 2, 3])"
   ]
  },
  {
   "cell_type": "code",
   "execution_count": 63,
   "id": "f511eb1a",
   "metadata": {},
   "outputs": [],
   "source": [
    "arr3[0] = 55"
   ]
  },
  {
   "cell_type": "code",
   "execution_count": 65,
   "id": "b8c60569",
   "metadata": {},
   "outputs": [],
   "source": [
    "a = np.array([1, 2, 3])\n",
    "b=a"
   ]
  },
  {
   "cell_type": "code",
   "execution_count": 66,
   "id": "472e7095",
   "metadata": {},
   "outputs": [
    {
     "data": {
      "text/plain": [
       "(array([1, 2, 3]), array([1, 2, 3]))"
      ]
     },
     "execution_count": 66,
     "metadata": {},
     "output_type": "execute_result"
    }
   ],
   "source": [
    "a,b"
   ]
  },
  {
   "cell_type": "code",
   "execution_count": 67,
   "id": "c6d19ad4",
   "metadata": {},
   "outputs": [],
   "source": [
    "a[0] = 74"
   ]
  },
  {
   "cell_type": "code",
   "execution_count": 72,
   "id": "b28e956c",
   "metadata": {},
   "outputs": [
    {
     "data": {
      "text/plain": [
       "(array([55,  4,  3]), array([74,  2,  3]))"
      ]
     },
     "execution_count": 72,
     "metadata": {},
     "output_type": "execute_result"
    }
   ],
   "source": [
    "a,b"
   ]
  },
  {
   "cell_type": "code",
   "execution_count": 69,
   "id": "fbee89df",
   "metadata": {},
   "outputs": [],
   "source": [
    "a = np.array([5,4,3])"
   ]
  },
  {
   "cell_type": "code",
   "execution_count": 71,
   "id": "a5206191",
   "metadata": {},
   "outputs": [],
   "source": [
    "a[0]=55"
   ]
  },
  {
   "cell_type": "code",
   "execution_count": 76,
   "id": "e4e94baa",
   "metadata": {},
   "outputs": [
    {
     "data": {
      "text/plain": [
       "1756016928.0441916"
      ]
     },
     "execution_count": 76,
     "metadata": {},
     "output_type": "execute_result"
    }
   ],
   "source": [
    "import time\n",
    "time.time()"
   ]
  },
  {
   "cell_type": "code",
   "execution_count": null,
   "id": "3ea14468",
   "metadata": {},
   "outputs": [],
   "source": []
  }
 ],
 "metadata": {
  "kernelspec": {
   "display_name": "Python 3",
   "language": "python",
   "name": "python3"
  },
  "language_info": {
   "codemirror_mode": {
    "name": "ipython",
    "version": 3
   },
   "file_extension": ".py",
   "mimetype": "text/x-python",
   "name": "python",
   "nbconvert_exporter": "python",
   "pygments_lexer": "ipython3",
   "version": "3.10.8"
  }
 },
 "nbformat": 4,
 "nbformat_minor": 5
}
