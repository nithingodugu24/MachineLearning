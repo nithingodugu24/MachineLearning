{
 "cells": [
  {
   "cell_type": "code",
   "execution_count": 60,
   "metadata": {},
   "outputs": [],
   "source": [
    "from sklearn.datasets import make_regression\n",
    "import matplotlib.pyplot as plt\n",
    "import numpy as np"
   ]
  },
  {
   "cell_type": "code",
   "execution_count": 61,
   "metadata": {},
   "outputs": [],
   "source": [
    "X, y = make_regression(n_samples=100, n_features=1, n_informative=1, n_targets=1, noise=21)"
   ]
  },
  {
   "cell_type": "code",
   "execution_count": 62,
   "metadata": {},
   "outputs": [
    {
     "data": {
      "text/plain": [
       "<matplotlib.collections.PathCollection at 0x2ccf9a36910>"
      ]
     },
     "execution_count": 62,
     "metadata": {},
     "output_type": "execute_result"
    },
    {
     "data": {
      "image/png": "[encoded data removed]",
      "text/plain": [
       "<Figure size 640x480 with 1 Axes>"
      ]
     },
     "metadata": {},
     "output_type": "display_data"
    }
   ],
   "source": [
    "plt.scatter(X,y)"
   ]
  },
  {
   "cell_type": "code",
   "execution_count": 63,
   "metadata": {},
   "outputs": [
    {
     "data": {
      "text/html": [
       "<style>#sk-container-id-2 {color: black;}#sk-container-id-2 pre{padding: 0;}#sk-container-id-2 div.sk-toggleable {background-color: white;}#sk-container-id-2 label.sk-toggleable__label {cursor: pointer;display: block;width: 100%;margin-bottom: 0;padding: 0.3em;box-sizing: border-box;text-align: center;}#sk-container-id-2 label.sk-toggleable__label-arrow:before {content: \"▸\";float: left;margin-right: 0.25em;color: #696969;}#sk-container-id-2 label.sk-toggleable__label-arrow:hover:before {color: black;}#sk-container-id-2 div.sk-estimator:hover label.sk-toggleable__label-arrow:before {color: black;}#sk-container-id-2 div.sk-toggleable__content {max-height: 0;max-width: 0;overflow: hidden;text-align: left;background-color: #f0f8ff;}#sk-container-id-2 div.sk-toggleable__content pre {margin: 0.2em;color: black;border-radius: 0.25em;background-color: #f0f8ff;}#sk-container-id-2 input.sk-toggleable__control:checked~div.sk-toggleable__content {max-height: 200px;max-width: 100%;overflow: auto;}#sk-container-id-2 input.sk-toggleable__control:checked~label.sk-toggleable__label-arrow:before {content: \"▾\";}#sk-container-id-2 div.sk-estimator input.sk-toggleable__control:checked~label.sk-toggleable__label {background-color: #d4ebff;}#sk-container-id-2 div.sk-label input.sk-toggleable__control:checked~label.sk-toggleable__label {background-color: #d4ebff;}#sk-container-id-2 input.sk-hidden--visually {border: 0;clip: rect(1px 1px 1px 1px);clip: rect(1px, 1px, 1px, 1px);height: 1px;margin: -1px;overflow: hidden;padding: 0;position: absolute;width: 1px;}#sk-container-id-2 div.sk-estimator {font-family: monospace;background-color: #f0f8ff;border: 1px dotted black;border-radius: 0.25em;box-sizing: border-box;margin-bottom: 0.5em;}#sk-container-id-2 div.sk-estimator:hover {background-color: #d4ebff;}#sk-container-id-2 div.sk-parallel-item::after {content: \"\";width: 100%;border-bottom: 1px solid gray;flex-grow: 1;}#sk-container-id-2 div.sk-label:hover label.sk-toggleable__label {background-color: #d4ebff;}#sk-container-id-2 div.sk-serial::before {content: \"\";position: absolute;border-left: 1px solid gray;box-sizing: border-box;top: 0;bottom: 0;left: 50%;z-index: 0;}#sk-container-id-2 div.sk-serial {display: flex;flex-direction: column;align-items: center;background-color: white;padding-right: 0.2em;padding-left: 0.2em;position: relative;}#sk-container-id-2 div.sk-item {position: relative;z-index: 1;}#sk-container-id-2 div.sk-parallel {display: flex;align-items: stretch;justify-content: center;background-color: white;position: relative;}#sk-container-id-2 div.sk-item::before, #sk-container-id-2 div.sk-parallel-item::before {content: \"\";position: absolute;border-left: 1px solid gray;box-sizing: border-box;top: 0;bottom: 0;left: 50%;z-index: -1;}#sk-container-id-2 div.sk-parallel-item {display: flex;flex-direction: column;z-index: 1;position: relative;background-color: white;}#sk-container-id-2 div.sk-parallel-item:first-child::after {align-self: flex-end;width: 50%;}#sk-container-id-2 div.sk-parallel-item:last-child::after {align-self: flex-start;width: 50%;}#sk-container-id-2 div.sk-parallel-item:only-child::after {width: 0;}#sk-container-id-2 div.sk-dashed-wrapped {border: 1px dashed gray;margin: 0 0.4em 0.5em 0.4em;box-sizing: border-box;padding-bottom: 0.4em;background-color: white;}#sk-container-id-2 div.sk-label label {font-family: monospace;font-weight: bold;display: inline-block;line-height: 1.2em;}#sk-container-id-2 div.sk-label-container {text-align: center;}#sk-container-id-2 div.sk-container {/* jupyter's `normalize.less` sets `[hidden] { display: none; }` but bootstrap.min.css set `[hidden] { display: none !important; }` so we also need the `!important` here to be able to override the default hidden behavior on the sphinx rendered scikit-learn.org. See: https://github.com/scikit-learn/scikit-learn/issues/21755 */display: inline-block !important;position: relative;}#sk-container-id-2 div.sk-text-repr-fallback {display: none;}</style><div id=\"sk-container-id-2\" class=\"sk-top-container\"><div class=\"sk-text-repr-fallback\"><pre>LinearRegression()</pre><b>In a Jupyter environment, please rerun this cell to show the HTML representation or trust the notebook. <br />On GitHub, the HTML representation is unable to render, please try loading this page with nbviewer.org.</b></div><div class=\"sk-container\" hidden><div class=\"sk-item\"><div class=\"sk-estimator sk-toggleable\"><input class=\"sk-toggleable__control sk-hidden--visually\" id=\"sk-estimator-id-2\" type=\"checkbox\" checked><label for=\"sk-estimator-id-2\" class=\"sk-toggleable__label sk-toggleable__label-arrow\">LinearRegression</label><div class=\"sk-toggleable__content\"><pre>LinearRegression()</pre></div></div></div></div></div>"
      ],
      "text/plain": [
       "LinearRegression()"
      ]
     },
     "execution_count": 63,
     "metadata": {},
     "output_type": "execute_result"
    }
   ],
   "source": [
    "from sklearn.linear_model import LinearRegression\n",
    "lr = LinearRegression()\n",
    "\n",
    "lr.fit(X, y)"
   ]
  },
  {
   "cell_type": "code",
   "execution_count": 106,
   "metadata": {},
   "outputs": [
    {
     "name": "stdout",
     "output_type": "stream",
     "text": [
      "[14.9952695]\n",
      "3.6018632263566763\n"
     ]
    },
    {
     "data": {
      "text/plain": [
       "array([-4.43156974e-01,  2.22021047e+01, -1.91180260e+01,  7.90767048e+00,\n",
       "       -7.61118553e+00, -9.22648965e+00, -2.52342563e+01, -2.51789614e+01,\n",
       "        2.29352979e+01, -1.13920477e+01, -4.31784024e+00,  8.32070789e+00,\n",
       "        2.08851902e+01,  2.23251203e+01,  1.39625839e+00,  4.89571377e+00,\n",
       "       -2.54006912e+01,  2.70791617e+01,  6.36983267e+00,  4.46291402e+01,\n",
       "        1.80871418e+01,  1.83328330e+01,  7.90139942e+00,  1.55904442e+01,\n",
       "        9.70134038e+00, -6.38564240e+00, -2.11195515e+01,  1.44270256e+01,\n",
       "        1.59532541e+01,  1.98281976e+01,  2.21128529e+01, -1.37415465e+01,\n",
       "        3.68058076e+00,  1.14286920e+01,  7.85586656e+00,  2.19972979e+01,\n",
       "       -1.12740200e+01, -1.76478301e+00, -9.68021601e+00, -2.01639387e+01,\n",
       "        4.82605142e+00, -2.86690010e-01,  1.15078061e+01, -1.31891203e+01,\n",
       "       -1.71681697e+01, -2.76546949e-02,  5.89920342e+00,  3.12881908e+00,\n",
       "       -1.13706960e+01, -1.20392185e+00, -2.49891282e+01, -8.66214243e+00,\n",
       "       -4.43135180e+00,  1.23230703e+01, -9.50327707e+00,  1.15252358e+00,\n",
       "       -1.39673245e+01,  3.47926237e-01,  1.08573132e+01,  3.87095476e+00,\n",
       "        1.56218420e+01,  7.72685952e+00,  5.81462191e+00, -3.27768000e+00,\n",
       "        1.95734849e+01, -7.46495756e+00,  3.46661662e+01,  1.18684578e+01,\n",
       "       -2.89761248e+00, -1.76061302e+01, -7.89293262e+00,  1.23479401e+01,\n",
       "        8.73423337e+00,  8.77005112e+00,  1.31683877e+01,  1.07205497e+01,\n",
       "        2.20589702e+01,  8.41238238e+00,  1.27864140e+01,  1.71009326e+01,\n",
       "        4.86844679e+00, -6.56994361e+00,  2.02245795e+01,  2.09230196e+01,\n",
       "       -3.81984010e+01,  3.77426498e+01,  1.57523489e+01,  3.37999969e-01,\n",
       "        1.77900974e+01, -1.44710564e+01, -2.94858587e+00, -8.29867643e+00,\n",
       "        1.91700018e+00, -2.92508533e+00,  2.11755138e+01, -2.44760636e+01,\n",
       "       -1.31496529e+01,  1.15400451e+01,  3.17826710e+01,  7.98525758e+00])"
      ]
     },
     "execution_count": 106,
     "metadata": {},
     "output_type": "execute_result"
    }
   ],
   "source": [
    "print(lr.coef_)\n",
    "print(lr.intercept_)\n",
    "\n",
    "lr.predict(X)"
   ]
  },
  {
   "cell_type": "code",
   "execution_count": 101,
   "metadata": {},
   "outputs": [],
   "source": [
    "class GDRegressor:\n",
    "    def __init__(self, learning_rate, epochs):\n",
    "        self.m = 0\n",
    "        self.b = 0\n",
    "        self.lr = learning_rate\n",
    "        self.epochs = epochs\n",
    "\n",
    "    def fit(self, X, y):\n",
    "        for i in range(self.epochs):\n",
    "            loss_slope_b = -2 * np.sum(y - self.m * X.ravel() - self.b)\n",
    "            self.b = self.b - (self.lr * loss_slope_b)\n",
    "\n",
    "            loss_slope_m = -2 * np.sum((y - self.m * X.ravel() - self.b) * X.ravel())\n",
    "            self.m = self.m - (self.lr * loss_slope_m)\n",
    "            # print(slope, self.b)\n",
    "        print(self.b)\n",
    "        print(self.m)\n",
    "        \n",
    "    \n",
    "    def predict(self, X):\n",
    "        X = np.array(X)\n",
    "        return self.m * X.ravel() + self.b"
   ]
  },
  {
   "cell_type": "code",
   "execution_count": 102,
   "metadata": {},
   "outputs": [
    {
     "name": "stdout",
     "output_type": "stream",
     "text": [
      "3.601863225727253\n",
      "14.995269501139967\n"
     ]
    }
   ],
   "source": [
    "gd = GDRegressor(0.001, 100)\n",
    "gd.fit(X, y)"
   ]
  },
  {
   "cell_type": "code",
   "execution_count": 105,
   "metadata": {},
   "outputs": [
    {
     "data": {
      "text/plain": [
       "array([-4.43156975e-01,  2.22021047e+01, -1.91180260e+01,  7.90767047e+00,\n",
       "       -7.61118553e+00, -9.22648965e+00, -2.52342563e+01, -2.51789614e+01,\n",
       "        2.29352979e+01, -1.13920477e+01, -4.31784024e+00,  8.32070789e+00,\n",
       "        2.08851902e+01,  2.23251203e+01,  1.39625839e+00,  4.89571377e+00,\n",
       "       -2.54006912e+01,  2.70791617e+01,  6.36983267e+00,  4.46291402e+01,\n",
       "        1.80871418e+01,  1.83328330e+01,  7.90139942e+00,  1.55904442e+01,\n",
       "        9.70134038e+00, -6.38564240e+00, -2.11195515e+01,  1.44270256e+01,\n",
       "        1.59532541e+01,  1.98281976e+01,  2.21128529e+01, -1.37415465e+01,\n",
       "        3.68058076e+00,  1.14286920e+01,  7.85586656e+00,  2.19972979e+01,\n",
       "       -1.12740200e+01, -1.76478301e+00, -9.68021601e+00, -2.01639387e+01,\n",
       "        4.82605142e+00, -2.86690010e-01,  1.15078061e+01, -1.31891203e+01,\n",
       "       -1.71681697e+01, -2.76546954e-02,  5.89920342e+00,  3.12881908e+00,\n",
       "       -1.13706960e+01, -1.20392185e+00, -2.49891282e+01, -8.66214243e+00,\n",
       "       -4.43135180e+00,  1.23230703e+01, -9.50327707e+00,  1.15252358e+00,\n",
       "       -1.39673245e+01,  3.47926237e-01,  1.08573132e+01,  3.87095476e+00,\n",
       "        1.56218420e+01,  7.72685951e+00,  5.81462191e+00, -3.27768000e+00,\n",
       "        1.95734849e+01, -7.46495756e+00,  3.46661662e+01,  1.18684578e+01,\n",
       "       -2.89761248e+00, -1.76061302e+01, -7.89293262e+00,  1.23479401e+01,\n",
       "        8.73423337e+00,  8.77005112e+00,  1.31683877e+01,  1.07205497e+01,\n",
       "        2.20589702e+01,  8.41238238e+00,  1.27864140e+01,  1.71009326e+01,\n",
       "        4.86844679e+00, -6.56994361e+00,  2.02245795e+01,  2.09230196e+01,\n",
       "       -3.81984010e+01,  3.77426498e+01,  1.57523489e+01,  3.37999968e-01,\n",
       "        1.77900974e+01, -1.44710564e+01, -2.94858587e+00, -8.29867643e+00,\n",
       "        1.91700018e+00, -2.92508533e+00,  2.11755138e+01, -2.44760636e+01,\n",
       "       -1.31496529e+01,  1.15400451e+01,  3.17826710e+01,  7.98525758e+00])"
      ]
     },
     "execution_count": 105,
     "metadata": {},
     "output_type": "execute_result"
    }
   ],
   "source": [
    "gd.predict(X)"
   ]
  },
  {
   "cell_type": "code",
   "execution_count": null,
   "metadata": {},
   "outputs": [],
   "source": []
  },
  {
   "cell_type": "code",
   "execution_count": null,
   "metadata": {},
   "outputs": [],
   "source": []
  }
 ],
 "metadata": {
  "kernelspec": {
   "display_name": "Python 3",
   "language": "python",
   "name": "python3"
  },
  "language_info": {
   "codemirror_mode": {
    "name": "ipython",
    "version": 3
   },
   "file_extension": ".py",
   "mimetype": "text/x-python",
   "name": "python",
   "nbconvert_exporter": "python",
   "pygments_lexer": "ipython3",
   "version": "3.11.9"
  }
 },
 "nbformat": 4,
 "nbformat_minor": 2
}
