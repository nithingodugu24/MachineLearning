{
 "cells": [
  {
   "cell_type": "code",
   "execution_count": 1,
   "metadata": {},
   "outputs": [],
   "source": [
    "from sklearn.datasets import load_diabetes\n",
    "import numpy as np\n",
    "from sklearn.linear_model import LinearRegression\n",
    "from sklearn.metrics import r2_score\n",
    "from sklearn.model_selection import train_test_split"
   ]
  },
  {
   "cell_type": "code",
   "execution_count": 2,
   "metadata": {},
   "outputs": [],
   "source": [
    "X, y = load_diabetes(return_X_y=True)\n",
    "X_train, X_test, y_train, y_test = train_test_split(X,y, test_size=0.2, random_state=2)\n"
   ]
  },
  {
   "cell_type": "code",
   "execution_count": 4,
   "metadata": {},
   "outputs": [
    {
     "name": "stdout",
     "output_type": "stream",
     "text": [
      "XShape = (442, 10)\n"
     ]
    }
   ],
   "source": [
    "print(f\"XShape = {X.shape}\")"
   ]
  },
  {
   "cell_type": "code",
   "execution_count": 3,
   "metadata": {},
   "outputs": [
    {
     "name": "stdout",
     "output_type": "stream",
     "text": [
      "B0 = 151.88331005254167\n",
      "Coefs = [  -9.15865318 -205.45432163  516.69374454  340.61999905 -895.5520019\n",
      "  561.22067904  153.89310954  126.73139688  861.12700152   52.42112238]\n",
      "\n",
      "R2Score: 0.4399338661568968\n"
     ]
    }
   ],
   "source": [
    "lr = LinearRegression()\n",
    "lr.fit(X_train, y_train)\n",
    "y_pred = lr.predict(X_test)\n",
    "print(f\"B0 = {lr.intercept_}\")\n",
    "print(f\"Coefs = {lr.coef_}\")\n",
    "\n",
    "print(f\"\\nR2Score: {r2_score(y_test, y_pred)}\")"
   ]
  },
  {
   "cell_type": "code",
   "execution_count": 147,
   "metadata": {},
   "outputs": [],
   "source": [
    "import math, random\n",
    "class MBGDRegressor:\n",
    "\n",
    "    def __init__(\n",
    "        self,\n",
    "        batch_size,\n",
    "        epochs=100,\n",
    "        lr=0.01\n",
    "    ):\n",
    "        self.lr = lr\n",
    "        self.epochs = epochs\n",
    "        self.intercept_ = None\n",
    "        self.coef_ = None\n",
    "        self.batch_size = batch_size\n",
    "\n",
    "    def fit(self, X_train, y_train):\n",
    "        # Initialization\n",
    "        # print(int(101/100))\n",
    "        self.intercept_ = 0\n",
    "        self.coef_ = np.ones(X_train.shape[1])\n",
    "\n",
    "        for _ in range(self.epochs):\n",
    "\n",
    "            for __ in range(math.ceil(X_train.shape[0] / self.batch_size)):\n",
    "                ids = random.sample(range(0, X_train.shape[0]), self.batch_size)\n",
    "\n",
    "                y_hat = np.dot(X_train[ids], self.coef_) + self.intercept_\n",
    "                # print(y_hat.shape)\n",
    "                # print(y_train[ids].shape)\n",
    "\n",
    "                intercept_slope = -2 * np.mean(y_train[ids] - y_hat)\n",
    "                self.intercept_ = self.intercept_ - (self.lr * intercept_slope)\n",
    "\n",
    "                coefs_derivatives = (-2 )* np.dot(y_train[ids] - y_hat, X_train[ids])\n",
    "                self.coef_ = self.coef_ - (self.lr * coefs_derivatives)\n",
    "                \n",
    "        print(f\"Intercept : {self.intercept_}\")\n",
    "        print(f\"Coefficients  : {self.coef_}\")\n",
    "\n",
    "    def predict(self, X_test):\n",
    "        return np.dot(X_test, self.coef_) + self.intercept_"
   ]
  },
  {
   "cell_type": "code",
   "execution_count": 148,
   "metadata": {},
   "outputs": [
    {
     "name": "stdout",
     "output_type": "stream",
     "text": [
      "Intercept : 152.0353568473837\n",
      "Coefficients  : [  28.23263219 -159.59470967  458.44772377  320.7277402   -34.0133668\n",
      " -109.85689366 -193.76757073  100.74000734  434.75234786  111.8484237 ]\n"
     ]
    }
   ],
   "source": [
    "mb = MBGDRegressor(batch_size=100, lr=0.01, epochs=100)\n",
    "mb.fit(X_train, y_train)\n"
   ]
  },
  {
   "cell_type": "code",
   "execution_count": 149,
   "metadata": {},
   "outputs": [
    {
     "name": "stdout",
     "output_type": "stream",
     "text": [
      "\n",
      "R2Score: 0.45224267351099745\n"
     ]
    }
   ],
   "source": [
    "print(f\"\\nR2Score: {r2_score(y_test, mb.predict(X_test))}\")"
   ]
  },
  {
   "cell_type": "code",
   "execution_count": null,
   "metadata": {},
   "outputs": [],
   "source": []
  }
 ],
 "metadata": {
  "kernelspec": {
   "display_name": "Python 3",
   "language": "python",
   "name": "python3"
  },
  "language_info": {
   "codemirror_mode": {
    "name": "ipython",
    "version": 3
   },
   "file_extension": ".py",
   "mimetype": "text/x-python",
   "name": "python",
   "nbconvert_exporter": "python",
   "pygments_lexer": "ipython3",
   "version": "3.11.9"
  }
 },
 "nbformat": 4,
 "nbformat_minor": 2
}
