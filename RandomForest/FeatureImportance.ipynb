{
 "cells": [
  {
   "cell_type": "code",
   "execution_count": 1,
   "metadata": {},
   "outputs": [],
   "source": [
    "import numpy as np\n",
    "import pandas as pd\n",
    "import seaborn as sns\n",
    "import matplotlib.pyplot as plt\n",
    "\n",
    "from sklearn.ensemble import RandomForestClassifier"
   ]
  },
  {
   "cell_type": "code",
   "execution_count": 2,
   "metadata": {},
   "outputs": [],
   "source": [
    "df = pd.read_csv(\"mnist_train.csv\")"
   ]
  },
  {
   "cell_type": "code",
   "execution_count": 3,
   "metadata": {},
   "outputs": [
    {
     "data": {
      "text/html": [
       "<div>\n",
       "<style scoped>\n",
       "    .dataframe tbody tr th:only-of-type {\n",
       "        vertical-align: middle;\n",
       "    }\n",
       "\n",
       "    .dataframe tbody tr th {\n",
       "        vertical-align: top;\n",
       "    }\n",
       "\n",
       "    .dataframe thead th {\n",
       "        text-align: right;\n",
       "    }\n",
       "</style>\n",
       "<table border=\"1\" class=\"dataframe\">\n",
       "  <thead>\n",
       "    <tr style=\"text-align: right;\">\n",
       "      <th></th>\n",
       "      <th>label</th>\n",
       "      <th>1x1</th>\n",
       "      <th>1x2</th>\n",
       "      <th>1x3</th>\n",
       "      <th>1x4</th>\n",
       "      <th>1x5</th>\n",
       "      <th>1x6</th>\n",
       "      <th>1x7</th>\n",
       "      <th>1x8</th>\n",
       "      <th>1x9</th>\n",
       "      <th>...</th>\n",
       "      <th>28x19</th>\n",
       "      <th>28x20</th>\n",
       "      <th>28x21</th>\n",
       "      <th>28x22</th>\n",
       "      <th>28x23</th>\n",
       "      <th>28x24</th>\n",
       "      <th>28x25</th>\n",
       "      <th>28x26</th>\n",
       "      <th>28x27</th>\n",
       "      <th>28x28</th>\n",
       "    </tr>\n",
       "  </thead>\n",
       "  <tbody>\n",
       "    <tr>\n",
       "      <th>0</th>\n",
       "      <td>5</td>\n",
       "      <td>0</td>\n",
       "      <td>0</td>\n",
       "      <td>0</td>\n",
       "      <td>0</td>\n",
       "      <td>0</td>\n",
       "      <td>0</td>\n",
       "      <td>0</td>\n",
       "      <td>0</td>\n",
       "      <td>0</td>\n",
       "      <td>...</td>\n",
       "      <td>0</td>\n",
       "      <td>0</td>\n",
       "      <td>0</td>\n",
       "      <td>0</td>\n",
       "      <td>0</td>\n",
       "      <td>0</td>\n",
       "      <td>0</td>\n",
       "      <td>0</td>\n",
       "      <td>0</td>\n",
       "      <td>0</td>\n",
       "    </tr>\n",
       "    <tr>\n",
       "      <th>1</th>\n",
       "      <td>0</td>\n",
       "      <td>0</td>\n",
       "      <td>0</td>\n",
       "      <td>0</td>\n",
       "      <td>0</td>\n",
       "      <td>0</td>\n",
       "      <td>0</td>\n",
       "      <td>0</td>\n",
       "      <td>0</td>\n",
       "      <td>0</td>\n",
       "      <td>...</td>\n",
       "      <td>0</td>\n",
       "      <td>0</td>\n",
       "      <td>0</td>\n",
       "      <td>0</td>\n",
       "      <td>0</td>\n",
       "      <td>0</td>\n",
       "      <td>0</td>\n",
       "      <td>0</td>\n",
       "      <td>0</td>\n",
       "      <td>0</td>\n",
       "    </tr>\n",
       "    <tr>\n",
       "      <th>2</th>\n",
       "      <td>4</td>\n",
       "      <td>0</td>\n",
       "      <td>0</td>\n",
       "      <td>0</td>\n",
       "      <td>0</td>\n",
       "      <td>0</td>\n",
       "      <td>0</td>\n",
       "      <td>0</td>\n",
       "      <td>0</td>\n",
       "      <td>0</td>\n",
       "      <td>...</td>\n",
       "      <td>0</td>\n",
       "      <td>0</td>\n",
       "      <td>0</td>\n",
       "      <td>0</td>\n",
       "      <td>0</td>\n",
       "      <td>0</td>\n",
       "      <td>0</td>\n",
       "      <td>0</td>\n",
       "      <td>0</td>\n",
       "      <td>0</td>\n",
       "    </tr>\n",
       "    <tr>\n",
       "      <th>3</th>\n",
       "      <td>1</td>\n",
       "      <td>0</td>\n",
       "      <td>0</td>\n",
       "      <td>0</td>\n",
       "      <td>0</td>\n",
       "      <td>0</td>\n",
       "      <td>0</td>\n",
       "      <td>0</td>\n",
       "      <td>0</td>\n",
       "      <td>0</td>\n",
       "      <td>...</td>\n",
       "      <td>0</td>\n",
       "      <td>0</td>\n",
       "      <td>0</td>\n",
       "      <td>0</td>\n",
       "      <td>0</td>\n",
       "      <td>0</td>\n",
       "      <td>0</td>\n",
       "      <td>0</td>\n",
       "      <td>0</td>\n",
       "      <td>0</td>\n",
       "    </tr>\n",
       "    <tr>\n",
       "      <th>4</th>\n",
       "      <td>9</td>\n",
       "      <td>0</td>\n",
       "      <td>0</td>\n",
       "      <td>0</td>\n",
       "      <td>0</td>\n",
       "      <td>0</td>\n",
       "      <td>0</td>\n",
       "      <td>0</td>\n",
       "      <td>0</td>\n",
       "      <td>0</td>\n",
       "      <td>...</td>\n",
       "      <td>0</td>\n",
       "      <td>0</td>\n",
       "      <td>0</td>\n",
       "      <td>0</td>\n",
       "      <td>0</td>\n",
       "      <td>0</td>\n",
       "      <td>0</td>\n",
       "      <td>0</td>\n",
       "      <td>0</td>\n",
       "      <td>0</td>\n",
       "    </tr>\n",
       "  </tbody>\n",
       "</table>\n",
       "<p>5 rows × 785 columns</p>\n",
       "</div>"
      ],
      "text/plain": [
       "   label  1x1  1x2  1x3  1x4  1x5  1x6  1x7  1x8  1x9  ...  28x19  28x20  \\\n",
       "0      5    0    0    0    0    0    0    0    0    0  ...      0      0   \n",
       "1      0    0    0    0    0    0    0    0    0    0  ...      0      0   \n",
       "2      4    0    0    0    0    0    0    0    0    0  ...      0      0   \n",
       "3      1    0    0    0    0    0    0    0    0    0  ...      0      0   \n",
       "4      9    0    0    0    0    0    0    0    0    0  ...      0      0   \n",
       "\n",
       "   28x21  28x22  28x23  28x24  28x25  28x26  28x27  28x28  \n",
       "0      0      0      0      0      0      0      0      0  \n",
       "1      0      0      0      0      0      0      0      0  \n",
       "2      0      0      0      0      0      0      0      0  \n",
       "3      0      0      0      0      0      0      0      0  \n",
       "4      0      0      0      0      0      0      0      0  \n",
       "\n",
       "[5 rows x 785 columns]"
      ]
     },
     "execution_count": 3,
     "metadata": {},
     "output_type": "execute_result"
    }
   ],
   "source": [
    "df.head()"
   ]
  },
  {
   "cell_type": "code",
   "execution_count": 9,
   "metadata": {},
   "outputs": [
    {
     "data": {
      "text/plain": [
       "(60000, 785)"
      ]
     },
     "execution_count": 9,
     "metadata": {},
     "output_type": "execute_result"
    }
   ],
   "source": [
    "df.shape"
   ]
  },
  {
   "cell_type": "code",
   "execution_count": 4,
   "metadata": {},
   "outputs": [],
   "source": [
    "X = df.iloc[:,1:]\n",
    "y= df.iloc[:,0]"
   ]
  },
  {
   "cell_type": "code",
   "execution_count": 87,
   "metadata": {},
   "outputs": [
    {
     "name": "stdout",
     "output_type": "stream",
     "text": [
      "3\n"
     ]
    },
    {
     "data": {
      "text/plain": [
       "<matplotlib.image.AxesImage at 0x14effe6f210>"
      ]
     },
     "execution_count": 87,
     "metadata": {},
     "output_type": "execute_result"
    },
    {
     "data": {
      "image/png": "[encoded data removed]",
      "text/plain": [
       "<Figure size 640x480 with 1 Axes>"
      ]
     },
     "metadata": {},
     "output_type": "display_data"
    }
   ],
   "source": [
    "ran = np.random.randint(0, 60000)\n",
    "print(y.iloc[ran])\n",
    "# sns.heatmap(X.iloc[ran].values.reshape(28, 28))\n",
    "plt.imshow(X.iloc[ran].values.reshape(28, 28), cmap=\"gray\")\n",
    "# plt.show()"
   ]
  },
  {
   "cell_type": "code",
   "execution_count": null,
   "metadata": {},
   "outputs": [
    {
     "name": "stdout",
     "output_type": "stream",
     "text": [
      "(784,)\n",
      "(1, 784)\n",
      "[[0.         0.         0.         0.         0.         0.\n",
      "  0.         0.         0.         0.         0.         0.\n",
      "  0.         0.         0.         0.         0.         0.\n",
      "  0.         0.         0.         0.         0.         0.\n",
      "  0.         0.         0.         0.         0.         0.\n",
      "  0.         0.         0.         0.         0.         0.\n",
      "  0.         0.         0.         0.         0.         0.\n",
      "  0.         0.         0.         0.         0.         0.\n",
      "  0.         0.         0.         0.         0.         0.\n",
      "  0.         0.         0.         0.         0.         0.\n",
      "  0.         0.         0.         0.         0.         0.\n",
      "  0.         0.         0.         0.04705882 0.18039216 0.22745098\n",
      "  0.05882353 0.00392157 0.         0.         0.         0.\n",
      "  0.         0.         0.         0.         0.         0.\n",
      "  0.         0.         0.         0.         0.         0.\n",
      "  0.         0.         0.         0.         0.         0.02352941\n",
      "  0.15686275 0.43529412 0.81960784 0.89019608 0.18039216 0.00784314\n",
      "  0.         0.         0.         0.         0.         0.\n",
      "  0.         0.         0.         0.         0.         0.\n",
      "  0.         0.         0.         0.         0.         0.\n",
      "  0.         0.         0.01176471 0.25882353 0.71372549 0.95686275\n",
      "  0.97647059 0.74117647 0.05490196 0.         0.         0.\n",
      "  0.         0.         0.         0.         0.         0.\n",
      "  0.         0.         0.         0.         0.         0.\n",
      "  0.         0.         0.         0.         0.         0.03529412\n",
      "  0.23137255 0.71764706 0.97647059 0.9254902  0.71764706 0.32156863\n",
      "  0.01960784 0.         0.         0.         0.         0.\n",
      "  0.         0.         0.         0.         0.         0.\n",
      "  0.         0.         0.         0.         0.         0.\n",
      "  0.         0.         0.01176471 0.37647059 0.75686275 1.\n",
      "  0.95294118 0.54117647 0.23529412 0.00784314 0.         0.\n",
      "  0.         0.         0.         0.         0.         0.\n",
      "  0.         0.         0.         0.         0.         0.\n",
      "  0.         0.         0.         0.         0.         0.04313725\n",
      "  0.2627451  0.88235294 1.         0.94509804 0.65490196 0.10980392\n",
      "  0.         0.         0.         0.         0.         0.\n",
      "  0.         0.         0.         0.         0.         0.\n",
      "  0.         0.         0.         0.         0.         0.\n",
      "  0.         0.         0.03137255 0.36862745 0.90980392 1.\n",
      "  0.8745098  0.54509804 0.04705882 0.         0.         0.\n",
      "  0.         0.         0.         0.         0.         0.\n",
      "  0.         0.         0.         0.         0.         0.\n",
      "  0.         0.         0.         0.         0.         0.01176471\n",
      "  0.23137255 0.82745098 0.98823529 0.85882353 0.38431373 0.01176471\n",
      "  0.         0.         0.         0.         0.         0.\n",
      "  0.         0.         0.         0.         0.         0.\n",
      "  0.         0.         0.         0.         0.         0.\n",
      "  0.         0.         0.         0.09019608 0.65098039 0.99215686\n",
      "  0.92156863 0.40392157 0.01176471 0.         0.         0.\n",
      "  0.         0.         0.         0.         0.         0.\n",
      "  0.         0.         0.         0.         0.         0.\n",
      "  0.         0.         0.         0.         0.         0.\n",
      "  0.01176471 0.2627451  0.93333333 0.97647059 0.6627451  0.04705882\n",
      "  0.         0.         0.         0.         0.         0.01176471\n",
      "  0.         0.         0.         0.         0.         0.\n",
      "  0.         0.         0.         0.         0.         0.\n",
      "  0.         0.         0.         0.         0.0627451  0.56862745\n",
      "  0.99215686 0.92941176 0.38039216 0.18039216 0.17647059 0.17647059\n",
      "  0.17254902 0.14901961 0.18431373 0.31372549 0.19215686 0.17647059\n",
      "  0.14509804 0.09019608 0.08235294 0.03137255 0.         0.\n",
      "  0.         0.         0.         0.         0.         0.\n",
      "  0.         0.         0.0627451  0.55686275 0.99215686 1.\n",
      "  0.99215686 0.98431373 0.99215686 0.99215686 0.98039216 0.88235294\n",
      "  0.96078431 1.         1.         0.99215686 0.86666667 0.65098039\n",
      "  0.60784314 0.40392157 0.14509804 0.00392157 0.         0.\n",
      "  0.         0.         0.         0.         0.         0.\n",
      "  0.01568627 0.2745098  0.78431373 0.86666667 0.90588235 0.95686275\n",
      "  0.96470588 0.94117647 0.90980392 0.86666667 0.86666667 0.87058824\n",
      "  0.86666667 0.86666667 0.86666667 0.9372549  0.98431373 0.98039216\n",
      "  0.65098039 0.12156863 0.00784314 0.         0.         0.\n",
      "  0.         0.         0.         0.         0.         0.01960784\n",
      "  0.15294118 0.23529412 0.37647059 0.57254902 0.58431373 0.51372549\n",
      "  0.38431373 0.23921569 0.22352941 0.22352941 0.22352941 0.22352941\n",
      "  0.24313725 0.5254902  0.7372549  0.95294118 0.93333333 0.52156863\n",
      "  0.09019608 0.         0.         0.         0.         0.\n",
      "  0.         0.         0.         0.         0.         0.\n",
      "  0.         0.00392157 0.00392157 0.00392157 0.         0.\n",
      "  0.         0.         0.         0.         0.         0.00392157\n",
      "  0.15294118 0.76470588 0.98431373 0.96470588 0.21176471 0.\n",
      "  0.         0.         0.         0.         0.         0.\n",
      "  0.         0.         0.         0.         0.         0.\n",
      "  0.         0.         0.         0.         0.         0.\n",
      "  0.         0.         0.         0.         0.02745098 0.58039216\n",
      "  0.95294118 0.97254902 0.21176471 0.         0.         0.\n",
      "  0.         0.         0.         0.         0.         0.\n",
      "  0.         0.         0.         0.         0.         0.\n",
      "  0.         0.         0.         0.         0.         0.\n",
      "  0.         0.         0.12156863 0.65490196 0.96470588 0.97254902\n",
      "  0.21568627 0.         0.         0.         0.         0.\n",
      "  0.         0.         0.         0.         0.         0.\n",
      "  0.         0.         0.01960784 0.09019608 0.07843137 0.03137255\n",
      "  0.02745098 0.02745098 0.02745098 0.02745098 0.05490196 0.20392157\n",
      "  0.6627451  0.96078431 1.         0.83529412 0.16470588 0.\n",
      "  0.         0.         0.         0.         0.         0.\n",
      "  0.         0.         0.         0.         0.         0.\n",
      "  0.09803922 0.56862745 0.63137255 0.40784314 0.38039216 0.37647059\n",
      "  0.37647059 0.38039216 0.51372549 0.82352941 0.98823529 1.\n",
      "  0.91372549 0.36078431 0.02745098 0.         0.         0.\n",
      "  0.         0.         0.         0.         0.         0.\n",
      "  0.         0.         0.         0.         0.04313725 0.44705882\n",
      "  0.89019608 0.94117647 0.9372549  0.98823529 0.98823529 0.98823529\n",
      "  0.99215686 0.98039216 0.94901961 0.83921569 0.50196078 0.08627451\n",
      "  0.         0.         0.         0.         0.         0.\n",
      "  0.         0.         0.         0.         0.         0.\n",
      "  0.         0.         0.00392157 0.06666667 0.38823529 0.49803922\n",
      "  0.54117647 0.85882353 0.89019608 0.88627451 0.87843137 0.72156863\n",
      "  0.4745098  0.14509804 0.03137255 0.00392157 0.         0.\n",
      "  0.         0.         0.         0.         0.         0.\n",
      "  0.         0.         0.         0.         0.         0.\n",
      "  0.         0.         0.01568627 0.02352941 0.02745098 0.05098039\n",
      "  0.05490196 0.05490196 0.05490196 0.04313725 0.02352941 0.\n",
      "  0.         0.         0.         0.         0.         0.\n",
      "  0.         0.         0.         0.         0.         0.\n",
      "  0.         0.         0.         0.         0.         0.\n",
      "  0.         0.         0.         0.         0.         0.\n",
      "  0.         0.         0.         0.         0.         0.\n",
      "  0.         0.         0.         0.         0.         0.\n",
      "  0.         0.         0.         0.         0.         0.\n",
      "  0.         0.         0.         0.         0.         0.\n",
      "  0.         0.         0.         0.         0.         0.\n",
      "  0.         0.         0.         0.         0.         0.\n",
      "  0.         0.         0.         0.         0.         0.\n",
      "  0.         0.         0.         0.         0.         0.\n",
      "  0.         0.         0.         0.         0.         0.\n",
      "  0.         0.         0.         0.         0.         0.\n",
      "  0.         0.         0.         0.         0.         0.\n",
      "  0.         0.         0.         0.         0.         0.\n",
      "  0.         0.         0.         0.         0.         0.\n",
      "  0.         0.         0.         0.         0.         0.\n",
      "  0.         0.         0.         0.         0.         0.\n",
      "  0.         0.         0.         0.        ]]\n"
     ]
    },
    {
     "data": {
      "text/plain": [
       "<matplotlib.image.AxesImage at 0x14eff91ecd0>"
      ]
     },
     "execution_count": 53,
     "metadata": {},
     "output_type": "execute_result"
    },
    {
     "data": {
      "image/png": "[encoded data removed]",
      "text/plain": [
       "<Figure size 640x480 with 1 Axes>"
      ]
     },
     "metadata": {},
     "output_type": "display_data"
    }
   ],
   "source": [
    "import numpy as np\n",
    "from PIL import Image, ImageOps\n",
    "\n",
    "\n",
    "def image_to_row(image_path):\n",
    "    \"\"\"\n",
    "    Convert a given image to a flattened row (784 values) for ML model input.\n",
    "\n",
    "    Args:\n",
    "        image_path (str): Path to the image file.\n",
    "\n",
    "    Returns:\n",
    "        np.array: A 1D numpy array of 784 pixel values (normalized 0-1).\n",
    "    \"\"\"\n",
    "    img = Image.open(image_path).convert(\"L\")  # Convert to grayscale\n",
    "    # img = ImageOps.invert(img)  # Ensure white digit on black background\n",
    "    img = img.resize((28, 28))  # Resize to 28x28 (if not already)\n",
    "\n",
    "    img_array = np.array(img)  # Convert to numpy array\n",
    "    img_array = img_array.flatten() / 255.0  # Normalize pixel values (0-1)\n",
    "\n",
    "    return img_array  # Returns 1D array of 784 values\n",
    "\n",
    "\n",
    "# Example Usage:\n",
    "row = image_to_row(\"../image.png\")\n",
    "print(row.shape)  # Output: (784,)\n",
    "row = row.reshape(1, -1)\n",
    "print(row.shape)  # Output: (784,)\n",
    "print(row)\n",
    "plt.imshow(row.reshape(28, 28), cmap=\"gray\")"
   ]
  },
  {
   "cell_type": "code",
   "execution_count": 93,
   "metadata": {},
   "outputs": [
    {
     "data": {
      "text/html": [
       "<style>#sk-container-id-4 {color: black;}#sk-container-id-4 pre{padding: 0;}#sk-container-id-4 div.sk-toggleable {background-color: white;}#sk-container-id-4 label.sk-toggleable__label {cursor: pointer;display: block;width: 100%;margin-bottom: 0;padding: 0.3em;box-sizing: border-box;text-align: center;}#sk-container-id-4 label.sk-toggleable__label-arrow:before {content: \"▸\";float: left;margin-right: 0.25em;color: #696969;}#sk-container-id-4 label.sk-toggleable__label-arrow:hover:before {color: black;}#sk-container-id-4 div.sk-estimator:hover label.sk-toggleable__label-arrow:before {color: black;}#sk-container-id-4 div.sk-toggleable__content {max-height: 0;max-width: 0;overflow: hidden;text-align: left;background-color: #f0f8ff;}#sk-container-id-4 div.sk-toggleable__content pre {margin: 0.2em;color: black;border-radius: 0.25em;background-color: #f0f8ff;}#sk-container-id-4 input.sk-toggleable__control:checked~div.sk-toggleable__content {max-height: 200px;max-width: 100%;overflow: auto;}#sk-container-id-4 input.sk-toggleable__control:checked~label.sk-toggleable__label-arrow:before {content: \"▾\";}#sk-container-id-4 div.sk-estimator input.sk-toggleable__control:checked~label.sk-toggleable__label {background-color: #d4ebff;}#sk-container-id-4 div.sk-label input.sk-toggleable__control:checked~label.sk-toggleable__label {background-color: #d4ebff;}#sk-container-id-4 input.sk-hidden--visually {border: 0;clip: rect(1px 1px 1px 1px);clip: rect(1px, 1px, 1px, 1px);height: 1px;margin: -1px;overflow: hidden;padding: 0;position: absolute;width: 1px;}#sk-container-id-4 div.sk-estimator {font-family: monospace;background-color: #f0f8ff;border: 1px dotted black;border-radius: 0.25em;box-sizing: border-box;margin-bottom: 0.5em;}#sk-container-id-4 div.sk-estimator:hover {background-color: #d4ebff;}#sk-container-id-4 div.sk-parallel-item::after {content: \"\";width: 100%;border-bottom: 1px solid gray;flex-grow: 1;}#sk-container-id-4 div.sk-label:hover label.sk-toggleable__label {background-color: #d4ebff;}#sk-container-id-4 div.sk-serial::before {content: \"\";position: absolute;border-left: 1px solid gray;box-sizing: border-box;top: 0;bottom: 0;left: 50%;z-index: 0;}#sk-container-id-4 div.sk-serial {display: flex;flex-direction: column;align-items: center;background-color: white;padding-right: 0.2em;padding-left: 0.2em;position: relative;}#sk-container-id-4 div.sk-item {position: relative;z-index: 1;}#sk-container-id-4 div.sk-parallel {display: flex;align-items: stretch;justify-content: center;background-color: white;position: relative;}#sk-container-id-4 div.sk-item::before, #sk-container-id-4 div.sk-parallel-item::before {content: \"\";position: absolute;border-left: 1px solid gray;box-sizing: border-box;top: 0;bottom: 0;left: 50%;z-index: -1;}#sk-container-id-4 div.sk-parallel-item {display: flex;flex-direction: column;z-index: 1;position: relative;background-color: white;}#sk-container-id-4 div.sk-parallel-item:first-child::after {align-self: flex-end;width: 50%;}#sk-container-id-4 div.sk-parallel-item:last-child::after {align-self: flex-start;width: 50%;}#sk-container-id-4 div.sk-parallel-item:only-child::after {width: 0;}#sk-container-id-4 div.sk-dashed-wrapped {border: 1px dashed gray;margin: 0 0.4em 0.5em 0.4em;box-sizing: border-box;padding-bottom: 0.4em;background-color: white;}#sk-container-id-4 div.sk-label label {font-family: monospace;font-weight: bold;display: inline-block;line-height: 1.2em;}#sk-container-id-4 div.sk-label-container {text-align: center;}#sk-container-id-4 div.sk-container {/* jupyter's `normalize.less` sets `[hidden] { display: none; }` but bootstrap.min.css set `[hidden] { display: none !important; }` so we also need the `!important` here to be able to override the default hidden behavior on the sphinx rendered scikit-learn.org. See: https://github.com/scikit-learn/scikit-learn/issues/21755 */display: inline-block !important;position: relative;}#sk-container-id-4 div.sk-text-repr-fallback {display: none;}</style><div id=\"sk-container-id-4\" class=\"sk-top-container\"><div class=\"sk-text-repr-fallback\"><pre>RandomForestClassifier(max_features=0.8, max_samples=0.5, n_jobs=-1,\n",
       "                       random_state=43)</pre><b>In a Jupyter environment, please rerun this cell to show the HTML representation or trust the notebook. <br />On GitHub, the HTML representation is unable to render, please try loading this page with nbviewer.org.</b></div><div class=\"sk-container\" hidden><div class=\"sk-item\"><div class=\"sk-estimator sk-toggleable\"><input class=\"sk-toggleable__control sk-hidden--visually\" id=\"sk-estimator-id-4\" type=\"checkbox\" checked><label for=\"sk-estimator-id-4\" class=\"sk-toggleable__label sk-toggleable__label-arrow\">RandomForestClassifier</label><div class=\"sk-toggleable__content\"><pre>RandomForestClassifier(max_features=0.8, max_samples=0.5, n_jobs=-1,\n",
       "                       random_state=43)</pre></div></div></div></div></div>"
      ],
      "text/plain": [
       "RandomForestClassifier(max_features=0.8, max_samples=0.5, n_jobs=-1,\n",
       "                       random_state=43)"
      ]
     },
     "execution_count": 93,
     "metadata": {},
     "output_type": "execute_result"
    }
   ],
   "source": [
    "rf = RandomForestClassifier(\n",
    "    n_estimators=100,\n",
    "    n_jobs=-1,\n",
    "    max_samples=0.5,\n",
    "    max_features=0.8,\n",
    "    random_state=43,\n",
    "    bootstrap=True,\n",
    ")\n",
    "rf.fit(X, y)"
   ]
  },
  {
   "cell_type": "code",
   "execution_count": 78,
   "metadata": {},
   "outputs": [
    {
     "data": {
      "text/html": [
       "<style>#sk-container-id-3 {color: black;}#sk-container-id-3 pre{padding: 0;}#sk-container-id-3 div.sk-toggleable {background-color: white;}#sk-container-id-3 label.sk-toggleable__label {cursor: pointer;display: block;width: 100%;margin-bottom: 0;padding: 0.3em;box-sizing: border-box;text-align: center;}#sk-container-id-3 label.sk-toggleable__label-arrow:before {content: \"▸\";float: left;margin-right: 0.25em;color: #696969;}#sk-container-id-3 label.sk-toggleable__label-arrow:hover:before {color: black;}#sk-container-id-3 div.sk-estimator:hover label.sk-toggleable__label-arrow:before {color: black;}#sk-container-id-3 div.sk-toggleable__content {max-height: 0;max-width: 0;overflow: hidden;text-align: left;background-color: #f0f8ff;}#sk-container-id-3 div.sk-toggleable__content pre {margin: 0.2em;color: black;border-radius: 0.25em;background-color: #f0f8ff;}#sk-container-id-3 input.sk-toggleable__control:checked~div.sk-toggleable__content {max-height: 200px;max-width: 100%;overflow: auto;}#sk-container-id-3 input.sk-toggleable__control:checked~label.sk-toggleable__label-arrow:before {content: \"▾\";}#sk-container-id-3 div.sk-estimator input.sk-toggleable__control:checked~label.sk-toggleable__label {background-color: #d4ebff;}#sk-container-id-3 div.sk-label input.sk-toggleable__control:checked~label.sk-toggleable__label {background-color: #d4ebff;}#sk-container-id-3 input.sk-hidden--visually {border: 0;clip: rect(1px 1px 1px 1px);clip: rect(1px, 1px, 1px, 1px);height: 1px;margin: -1px;overflow: hidden;padding: 0;position: absolute;width: 1px;}#sk-container-id-3 div.sk-estimator {font-family: monospace;background-color: #f0f8ff;border: 1px dotted black;border-radius: 0.25em;box-sizing: border-box;margin-bottom: 0.5em;}#sk-container-id-3 div.sk-estimator:hover {background-color: #d4ebff;}#sk-container-id-3 div.sk-parallel-item::after {content: \"\";width: 100%;border-bottom: 1px solid gray;flex-grow: 1;}#sk-container-id-3 div.sk-label:hover label.sk-toggleable__label {background-color: #d4ebff;}#sk-container-id-3 div.sk-serial::before {content: \"\";position: absolute;border-left: 1px solid gray;box-sizing: border-box;top: 0;bottom: 0;left: 50%;z-index: 0;}#sk-container-id-3 div.sk-serial {display: flex;flex-direction: column;align-items: center;background-color: white;padding-right: 0.2em;padding-left: 0.2em;position: relative;}#sk-container-id-3 div.sk-item {position: relative;z-index: 1;}#sk-container-id-3 div.sk-parallel {display: flex;align-items: stretch;justify-content: center;background-color: white;position: relative;}#sk-container-id-3 div.sk-item::before, #sk-container-id-3 div.sk-parallel-item::before {content: \"\";position: absolute;border-left: 1px solid gray;box-sizing: border-box;top: 0;bottom: 0;left: 50%;z-index: -1;}#sk-container-id-3 div.sk-parallel-item {display: flex;flex-direction: column;z-index: 1;position: relative;background-color: white;}#sk-container-id-3 div.sk-parallel-item:first-child::after {align-self: flex-end;width: 50%;}#sk-container-id-3 div.sk-parallel-item:last-child::after {align-self: flex-start;width: 50%;}#sk-container-id-3 div.sk-parallel-item:only-child::after {width: 0;}#sk-container-id-3 div.sk-dashed-wrapped {border: 1px dashed gray;margin: 0 0.4em 0.5em 0.4em;box-sizing: border-box;padding-bottom: 0.4em;background-color: white;}#sk-container-id-3 div.sk-label label {font-family: monospace;font-weight: bold;display: inline-block;line-height: 1.2em;}#sk-container-id-3 div.sk-label-container {text-align: center;}#sk-container-id-3 div.sk-container {/* jupyter's `normalize.less` sets `[hidden] { display: none; }` but bootstrap.min.css set `[hidden] { display: none !important; }` so we also need the `!important` here to be able to override the default hidden behavior on the sphinx rendered scikit-learn.org. See: https://github.com/scikit-learn/scikit-learn/issues/21755 */display: inline-block !important;position: relative;}#sk-container-id-3 div.sk-text-repr-fallback {display: none;}</style><div id=\"sk-container-id-3\" class=\"sk-top-container\"><div class=\"sk-text-repr-fallback\"><pre>RandomForestClassifier()</pre><b>In a Jupyter environment, please rerun this cell to show the HTML representation or trust the notebook. <br />On GitHub, the HTML representation is unable to render, please try loading this page with nbviewer.org.</b></div><div class=\"sk-container\" hidden><div class=\"sk-item\"><div class=\"sk-estimator sk-toggleable\"><input class=\"sk-toggleable__control sk-hidden--visually\" id=\"sk-estimator-id-3\" type=\"checkbox\" checked><label for=\"sk-estimator-id-3\" class=\"sk-toggleable__label sk-toggleable__label-arrow\">RandomForestClassifier</label><div class=\"sk-toggleable__content\"><pre>RandomForestClassifier()</pre></div></div></div></div></div>"
      ],
      "text/plain": [
       "RandomForestClassifier()"
      ]
     },
     "execution_count": 78,
     "metadata": {},
     "output_type": "execute_result"
    }
   ],
   "source": [
    "rft = RandomForestClassifier(\n",
    ")\n",
    "rft.fit(X, y)"
   ]
  },
  {
   "cell_type": "code",
   "execution_count": 79,
   "metadata": {},
   "outputs": [
    {
     "data": {
      "text/plain": [
       "array([0.00000000e+00, 0.00000000e+00, 0.00000000e+00, 0.00000000e+00,\n",
       "       0.00000000e+00, 0.00000000e+00, 0.00000000e+00, 0.00000000e+00,\n",
       "       0.00000000e+00, 0.00000000e+00, 0.00000000e+00, 0.00000000e+00,\n",
       "       0.00000000e+00, 0.00000000e+00, 0.00000000e+00, 3.62030412e-07,\n",
       "       0.00000000e+00, 0.00000000e+00, 0.00000000e+00, 0.00000000e+00,\n",
       "       0.00000000e+00, 0.00000000e+00, 0.00000000e+00, 0.00000000e+00,\n",
       "       0.00000000e+00, 0.00000000e+00, 0.00000000e+00, 0.00000000e+00,\n",
       "       0.00000000e+00, 0.00000000e+00, 0.00000000e+00, 0.00000000e+00,\n",
       "       0.00000000e+00, 0.00000000e+00, 1.25639837e-06, 2.72137461e-06,\n",
       "       2.36679634e-06, 1.80933134e-06, 4.16073463e-06, 5.81825781e-06,\n",
       "       8.38014686e-07, 6.58133609e-06, 5.31299977e-06, 5.02754666e-06,\n",
       "       2.09814868e-06, 1.70946181e-06, 5.18658852e-07, 6.36218592e-07,\n",
       "       5.96075730e-07, 3.56117791e-07, 1.16351328e-06, 1.32580681e-06,\n",
       "       0.00000000e+00, 0.00000000e+00, 0.00000000e+00, 0.00000000e+00,\n",
       "       0.00000000e+00, 0.00000000e+00, 0.00000000e+00, 0.00000000e+00,\n",
       "       0.00000000e+00, 0.00000000e+00, 2.84618584e-06, 1.41813827e-05,\n",
       "       2.29975502e-05, 4.79717762e-05, 1.06575178e-04, 1.93255667e-04,\n",
       "       1.21669966e-04, 1.45235567e-04, 2.11929932e-04, 9.31753505e-05,\n",
       "       3.18557019e-04, 2.01046662e-04, 6.33355823e-05, 2.50738578e-05,\n",
       "       4.15158507e-05, 2.09514076e-05, 1.03340132e-05, 3.38290596e-06,\n",
       "       7.27831301e-07, 0.00000000e+00, 0.00000000e+00, 0.00000000e+00,\n",
       "       0.00000000e+00, 0.00000000e+00, 0.00000000e+00, 6.75190770e-07,\n",
       "       0.00000000e+00, 3.04696590e-06, 1.79731168e-05, 3.93383791e-05,\n",
       "       6.84486832e-05, 1.73406969e-04, 2.18096272e-04, 4.93115376e-04,\n",
       "       4.78251824e-04, 1.21319258e-03, 1.33436513e-03, 2.37571212e-03,\n",
       "       2.46722088e-03, 2.79697472e-03, 1.55517142e-03, 1.03929178e-03,\n",
       "       3.23953478e-04, 1.06983363e-04, 6.09734896e-05, 1.94156425e-05,\n",
       "       1.70201480e-05, 2.70054690e-06, 0.00000000e+00, 0.00000000e+00,\n",
       "       0.00000000e+00, 0.00000000e+00, 2.77861275e-07, 0.00000000e+00,\n",
       "       1.31444775e-06, 1.35894431e-05, 3.03397821e-05, 8.84903499e-05,\n",
       "       1.39481004e-04, 5.11268287e-04, 7.71810023e-04, 1.11164281e-03,\n",
       "       1.25517537e-03, 2.12218108e-03, 2.21081191e-03, 1.48556287e-03,\n",
       "       1.59874529e-03, 1.29208159e-03, 8.91802519e-04, 6.56182815e-04,\n",
       "       3.65049853e-04, 2.24725953e-04, 1.28002359e-04, 6.65092220e-05,\n",
       "       3.55724340e-05, 2.09654450e-05, 2.18030710e-06, 0.00000000e+00,\n",
       "       0.00000000e+00, 0.00000000e+00, 0.00000000e+00, 4.11340439e-06,\n",
       "       1.39341533e-05, 4.62330258e-05, 9.16794500e-05, 2.34285468e-04,\n",
       "       5.49213698e-04, 1.42891129e-03, 1.74681129e-03, 2.84530169e-03,\n",
       "       3.46305625e-03, 4.89237767e-03, 7.46923911e-03, 5.42783199e-03,\n",
       "       5.09314137e-03, 3.47699369e-03, 2.18080050e-03, 1.43718511e-03,\n",
       "       7.42670231e-04, 8.03529323e-04, 6.60139510e-04, 2.91582328e-04,\n",
       "       1.30024504e-04, 3.25364365e-05, 5.10214470e-06, 7.35697437e-07,\n",
       "       0.00000000e+00, 0.00000000e+00, 1.72677194e-06, 4.61555670e-06,\n",
       "       2.92705131e-05, 9.12394356e-05, 2.36813764e-04, 4.84941289e-04,\n",
       "       1.08912583e-03, 1.78124775e-03, 2.49166574e-03, 3.10492086e-03,\n",
       "       2.28780937e-03, 3.22832551e-03, 3.93648204e-03, 3.79984617e-03,\n",
       "       4.06132056e-03, 2.46747298e-03, 1.76576558e-03, 1.57690712e-03,\n",
       "       1.71838225e-03, 1.19734127e-03, 1.22882465e-03, 9.43946862e-04,\n",
       "       4.81589598e-04, 5.15534140e-05, 1.43836580e-05, 1.85239838e-07,\n",
       "       0.00000000e+00, 2.46993044e-07, 1.85062650e-06, 1.95048952e-05,\n",
       "       6.54610538e-05, 1.72932974e-04, 3.56175774e-04, 8.44396417e-04,\n",
       "       1.10638018e-03, 1.71595610e-03, 2.86626059e-03, 2.48907738e-03,\n",
       "       2.04509621e-03, 4.01600071e-03, 7.10796165e-03, 6.53677681e-03,\n",
       "       4.61281834e-03, 2.57008105e-03, 2.50526096e-03, 2.24679670e-03,\n",
       "       1.74751676e-03, 1.48682962e-03, 1.10157468e-03, 1.07118321e-03,\n",
       "       7.03408742e-04, 9.89814128e-05, 1.75393972e-05, 6.71374658e-07,\n",
       "       1.73612831e-06, 1.13018060e-06, 3.56618680e-06, 2.06669041e-05,\n",
       "       8.66756140e-05, 1.78332252e-04, 3.38456365e-04, 8.44463185e-04,\n",
       "       9.60738396e-04, 2.17854126e-03, 2.63327728e-03, 3.07420921e-03,\n",
       "       3.54330351e-03, 4.04348501e-03, 4.64917596e-03, 5.20743102e-03,\n",
       "       3.96523526e-03, 3.39262824e-03, 2.39499608e-03, 3.45862634e-03,\n",
       "       2.49568750e-03, 1.54731995e-03, 1.33309997e-03, 9.80760085e-04,\n",
       "       8.10958807e-04, 1.29543953e-04, 1.10283517e-05, 3.67001258e-07,\n",
       "       0.00000000e+00, 0.00000000e+00, 1.13138068e-05, 1.89939390e-05,\n",
       "       8.95456653e-05, 2.20002923e-04, 3.60336791e-04, 9.79485818e-04,\n",
       "       1.60965981e-03, 2.12528289e-03, 3.66620205e-03, 4.13748178e-03,\n",
       "       3.45605337e-03, 2.94011561e-03, 4.18375407e-03, 4.03134592e-03,\n",
       "       4.24306684e-03, 3.82629724e-03, 4.14296483e-03, 4.14908487e-03,\n",
       "       2.60240118e-03, 1.81490864e-03, 1.06224892e-03, 8.73048319e-04,\n",
       "       4.71433690e-04, 1.27448234e-04, 1.92177957e-05, 9.39137017e-07,\n",
       "       0.00000000e+00, 0.00000000e+00, 4.33924675e-06, 3.55640676e-05,\n",
       "       9.10355256e-05, 2.42836751e-04, 3.79289789e-04, 8.10975707e-04,\n",
       "       1.69032469e-03, 2.81992124e-03, 5.62194233e-03, 4.05450881e-03,\n",
       "       3.14216934e-03, 2.63986888e-03, 3.66991701e-03, 3.46665932e-03,\n",
       "       3.62651066e-03, 3.90829805e-03, 4.29157047e-03, 3.43270816e-03,\n",
       "       2.91020675e-03, 2.28152720e-03, 1.07480299e-03, 4.06939568e-04,\n",
       "       2.14614285e-04, 6.67873390e-05, 1.02907554e-05, 1.70082010e-06,\n",
       "       0.00000000e+00, 0.00000000e+00, 2.91953090e-06, 2.75270394e-05,\n",
       "       8.78324264e-05, 2.14781190e-04, 6.82191344e-04, 1.31237880e-03,\n",
       "       2.28677827e-03, 3.51272986e-03, 6.32421205e-03, 5.55501573e-03,\n",
       "       3.55812752e-03, 3.22363854e-03, 3.22455700e-03, 4.75744713e-03,\n",
       "       3.16413234e-03, 3.31166473e-03, 4.35540761e-03, 3.06543675e-03,\n",
       "       2.14739395e-03, 2.26423750e-03, 1.11629384e-03, 1.03209063e-03,\n",
       "       1.26022204e-04, 1.96179663e-05, 8.11042256e-06, 1.69853417e-06,\n",
       "       0.00000000e+00, 0.00000000e+00, 2.36720757e-06, 2.72259202e-05,\n",
       "       9.53813954e-05, 2.16909065e-04, 8.97366701e-04, 1.56573510e-03,\n",
       "       2.48489835e-03, 4.18660899e-03, 5.54953728e-03, 6.47555488e-03,\n",
       "       4.09997059e-03, 4.06577099e-03, 6.86903003e-03, 5.09005760e-03,\n",
       "       3.44659807e-03, 3.39614862e-03, 5.00754154e-03, 2.79673363e-03,\n",
       "       1.45264671e-03, 2.11909036e-03, 2.35127983e-03, 5.04712822e-04,\n",
       "       2.77309310e-04, 2.43991100e-05, 7.70026422e-06, 2.52702763e-06,\n",
       "       0.00000000e+00, 1.06675987e-06, 1.50502136e-06, 1.51529083e-05,\n",
       "       9.66111229e-05, 2.96539194e-04, 1.01924049e-03, 1.85747045e-03,\n",
       "       2.47111014e-03, 6.00314739e-03, 5.25256466e-03, 5.67420676e-03,\n",
       "       5.44166729e-03, 7.90253370e-03, 1.00603697e-02, 7.11227081e-03,\n",
       "       3.50324538e-03, 5.28456554e-03, 3.43562567e-03, 1.72969930e-03,\n",
       "       1.19251627e-03, 1.52908255e-03, 2.74037278e-03, 1.03747842e-03,\n",
       "       1.50430323e-04, 1.50436594e-05, 4.91641431e-06, 3.45413126e-07,\n",
       "       0.00000000e+00, 3.33431708e-07, 8.13779903e-07, 1.54246849e-05,\n",
       "       8.31406212e-05, 3.97922271e-04, 1.36639178e-03, 1.60560445e-03,\n",
       "       4.29094638e-03, 4.62501417e-03, 6.64761472e-03, 5.55990135e-03,\n",
       "       3.48155571e-03, 7.46889068e-03, 8.03087990e-03, 3.32403498e-03,\n",
       "       3.55304212e-03, 7.34491546e-03, 3.07100190e-03, 1.97172713e-03,\n",
       "       1.04849136e-03, 1.71912091e-03, 9.24183246e-04, 7.34988340e-04,\n",
       "       2.20142633e-04, 3.90849173e-05, 6.42517266e-06, 6.11402921e-07,\n",
       "       0.00000000e+00, 0.00000000e+00, 1.68959044e-06, 1.81181013e-05,\n",
       "       7.01032924e-05, 5.39414654e-04, 1.69465369e-03, 2.24726310e-03,\n",
       "       4.90641870e-03, 5.04726007e-03, 5.12367830e-03, 4.86207865e-03,\n",
       "       3.79298892e-03, 6.49495061e-03, 5.63747193e-03, 4.68179801e-03,\n",
       "       4.47308535e-03, 7.14927162e-03, 1.97439607e-03, 2.15568589e-03,\n",
       "       1.58392180e-03, 1.09869738e-03, 9.25268301e-04, 4.34883601e-04,\n",
       "       1.67487686e-04, 4.61343461e-05, 1.08365470e-05, 1.70874461e-06,\n",
       "       0.00000000e+00, 1.85235304e-07, 7.94269254e-06, 3.43304210e-05,\n",
       "       1.01689389e-04, 4.94615407e-04, 1.05008783e-03, 3.61244706e-03,\n",
       "       3.74283756e-03, 3.88480758e-03, 3.32373116e-03, 5.41093487e-03,\n",
       "       5.35052859e-03, 9.79557398e-03, 4.52149120e-03, 4.80063581e-03,\n",
       "       2.60740575e-03, 3.98008379e-03, 3.67634039e-03, 1.20758913e-03,\n",
       "       1.45194373e-03, 7.56235834e-04, 5.82040501e-04, 3.40304954e-04,\n",
       "       1.90170396e-04, 6.41964129e-05, 1.32749490e-05, 3.45254140e-06,\n",
       "       0.00000000e+00, 0.00000000e+00, 3.97072183e-06, 5.17679170e-05,\n",
       "       1.47226778e-04, 4.80071550e-04, 1.01363736e-03, 3.53618432e-03,\n",
       "       3.23473627e-03, 3.86394253e-03, 6.13487443e-03, 6.01286754e-03,\n",
       "       6.19426224e-03, 5.81520002e-03, 3.38833482e-03, 3.58653401e-03,\n",
       "       1.90846079e-03, 2.61754272e-03, 2.19043991e-03, 1.24443082e-03,\n",
       "       1.76247818e-03, 1.40663879e-03, 7.22768938e-04, 3.39885271e-04,\n",
       "       1.79807684e-04, 5.71008139e-05, 1.43141251e-05, 2.49066771e-06,\n",
       "       0.00000000e+00, 0.00000000e+00, 5.25199231e-06, 5.22554357e-05,\n",
       "       1.91593580e-04, 5.09063788e-04, 1.24570628e-03, 1.89581315e-03,\n",
       "       2.49728390e-03, 2.89061163e-03, 6.06567811e-03, 6.56957235e-03,\n",
       "       4.06922284e-03, 4.22296291e-03, 2.51027705e-03, 1.72083391e-03,\n",
       "       1.24943167e-03, 2.17489023e-03, 2.67093866e-03, 1.70026243e-03,\n",
       "       1.64051327e-03, 1.00488234e-03, 6.30948307e-04, 3.50803000e-04,\n",
       "       3.35866438e-04, 3.99362089e-05, 9.10492929e-06, 2.64467562e-06,\n",
       "       0.00000000e+00, 1.63212305e-06, 5.84097476e-06, 5.94203888e-05,\n",
       "       2.48608892e-04, 5.65260181e-04, 1.91736743e-03, 2.59191661e-03,\n",
       "       3.67161534e-03, 6.12461441e-03, 6.40313492e-03, 5.34551039e-03,\n",
       "       3.38588264e-03, 2.83380647e-03, 1.90333297e-03, 1.38986270e-03,\n",
       "       1.42199744e-03, 2.25081943e-03, 2.81423895e-03, 2.48765983e-03,\n",
       "       1.11922073e-03, 1.02324006e-03, 7.29121134e-04, 4.09703652e-04,\n",
       "       1.61103043e-04, 3.55648166e-05, 6.37433114e-06, 6.43478064e-07,\n",
       "       0.00000000e+00, 0.00000000e+00, 8.41258347e-06, 5.79625969e-05,\n",
       "       2.22587647e-04, 8.40668454e-04, 1.23297954e-03, 3.83858758e-03,\n",
       "       4.30633634e-03, 6.43368184e-03, 4.02984719e-03, 3.02363554e-03,\n",
       "       2.85958794e-03, 2.11779921e-03, 1.66103851e-03, 1.63640475e-03,\n",
       "       1.40379482e-03, 1.75268862e-03, 1.82921092e-03, 2.42284380e-03,\n",
       "       1.14168885e-03, 8.81693031e-04, 4.41544160e-04, 2.98384283e-04,\n",
       "       1.14160744e-04, 1.77465990e-05, 9.78595356e-07, 0.00000000e+00,\n",
       "       0.00000000e+00, 3.59600304e-07, 4.65360097e-06, 3.48578236e-05,\n",
       "       1.76508773e-04, 4.98368798e-04, 1.29142867e-03, 2.28022737e-03,\n",
       "       4.66186922e-03, 3.75221832e-03, 3.63572105e-03, 1.67211118e-03,\n",
       "       1.69686117e-03, 1.34849591e-03, 1.43392783e-03, 1.35750490e-03,\n",
       "       1.15313138e-03, 1.26755643e-03, 1.14467363e-03, 1.43867246e-03,\n",
       "       6.64506232e-04, 5.28829004e-04, 3.12171617e-04, 2.18360907e-04,\n",
       "       4.81919084e-05, 7.01283407e-06, 2.54638305e-06, 0.00000000e+00,\n",
       "       0.00000000e+00, 0.00000000e+00, 2.76659314e-06, 2.65248804e-05,\n",
       "       9.62945301e-05, 2.66506051e-04, 7.35590706e-04, 1.86568269e-03,\n",
       "       2.41295249e-03, 3.75779855e-03, 3.80298593e-03, 2.04188592e-03,\n",
       "       1.96804744e-03, 1.40241489e-03, 1.74539723e-03, 1.38902906e-03,\n",
       "       1.21836902e-03, 9.03818751e-04, 8.00093825e-04, 8.70018568e-04,\n",
       "       3.93719291e-04, 2.48252814e-04, 1.46591945e-04, 6.40651975e-05,\n",
       "       2.06391994e-05, 3.94942717e-06, 1.01688656e-06, 0.00000000e+00,\n",
       "       0.00000000e+00, 0.00000000e+00, 2.44941672e-06, 1.89229089e-05,\n",
       "       7.98725078e-05, 1.17276087e-04, 3.29882672e-04, 8.62094906e-04,\n",
       "       1.17498984e-03, 2.58187249e-03, 2.95129890e-03, 3.97132393e-03,\n",
       "       5.17506304e-03, 3.92901588e-03, 4.05444620e-03, 2.67707077e-03,\n",
       "       1.65524094e-03, 1.16790811e-03, 6.25139952e-04, 4.46100054e-04,\n",
       "       2.22632196e-04, 1.36122504e-04, 7.53127574e-05, 2.75442086e-05,\n",
       "       6.51534953e-06, 3.81746116e-06, 6.51865962e-07, 0.00000000e+00,\n",
       "       0.00000000e+00, 0.00000000e+00, 2.31657414e-06, 1.30146940e-05,\n",
       "       5.56872704e-05, 1.09473473e-04, 1.86917423e-04, 4.75182753e-04,\n",
       "       6.13775717e-04, 9.40053770e-04, 1.14127636e-03, 1.49151879e-03,\n",
       "       1.48608632e-03, 1.25700650e-03, 1.22133288e-03, 7.70792102e-04,\n",
       "       5.48394614e-04, 3.95972795e-04, 3.12892147e-04, 1.83788352e-04,\n",
       "       1.50863280e-04, 7.06135848e-05, 3.61404652e-05, 1.28560357e-05,\n",
       "       1.04282307e-05, 7.34361367e-07, 0.00000000e+00, 0.00000000e+00,\n",
       "       0.00000000e+00, 0.00000000e+00, 0.00000000e+00, 4.23026030e-06,\n",
       "       1.78330819e-05, 4.36460525e-05, 1.35612925e-04, 2.05975326e-04,\n",
       "       5.80880315e-04, 6.44799858e-04, 7.55080301e-04, 7.51329085e-04,\n",
       "       1.40037619e-03, 6.93651190e-04, 4.08798518e-04, 4.88518287e-04,\n",
       "       5.88492283e-04, 3.25138419e-04, 2.31315574e-04, 1.69460217e-04,\n",
       "       1.30971563e-04, 5.37022035e-05, 1.71112064e-05, 3.41639369e-06,\n",
       "       2.04112141e-06, 2.46978270e-07, 3.62224892e-07, 0.00000000e+00,\n",
       "       0.00000000e+00, 0.00000000e+00, 0.00000000e+00, 0.00000000e+00,\n",
       "       6.32702268e-06, 7.54985582e-06, 1.47102973e-05, 4.25862539e-05,\n",
       "       1.30842605e-04, 7.28362268e-05, 9.23954954e-05, 2.21219551e-04,\n",
       "       1.80615431e-04, 1.23233603e-04, 1.69366760e-04, 1.52132209e-04,\n",
       "       1.92936396e-04, 8.23690588e-05, 7.27683043e-05, 4.55646652e-05,\n",
       "       3.13242941e-05, 9.91928597e-06, 3.67067828e-06, 5.82962933e-07,\n",
       "       0.00000000e+00, 0.00000000e+00, 0.00000000e+00, 0.00000000e+00,\n",
       "       0.00000000e+00, 0.00000000e+00, 0.00000000e+00, 0.00000000e+00,\n",
       "       0.00000000e+00, 0.00000000e+00, 3.65337297e-07, 0.00000000e+00,\n",
       "       7.11928468e-07, 2.41802142e-06, 3.37651303e-06, 2.19103310e-06,\n",
       "       2.36084804e-06, 2.90353304e-06, 5.92977384e-06, 5.63958277e-06,\n",
       "       2.42097978e-06, 9.03833689e-07, 2.01808200e-06, 2.79867134e-06,\n",
       "       2.13163690e-06, 1.75030132e-06, 9.62056659e-07, 0.00000000e+00,\n",
       "       0.00000000e+00, 0.00000000e+00, 0.00000000e+00, 0.00000000e+00])"
      ]
     },
     "execution_count": 79,
     "metadata": {},
     "output_type": "execute_result"
    }
   ],
   "source": [
    "rft.feature_importances_"
   ]
  },
  {
   "cell_type": "code",
   "execution_count": 80,
   "metadata": {},
   "outputs": [
    {
     "data": {
      "text/plain": [
       "(784,)"
      ]
     },
     "execution_count": 80,
     "metadata": {},
     "output_type": "execute_result"
    }
   ],
   "source": [
    "rft.feature_importances_.shape"
   ]
  },
  {
   "cell_type": "code",
   "execution_count": 81,
   "metadata": {},
   "outputs": [
    {
     "data": {
      "text/plain": [
       "<Axes: >"
      ]
     },
     "execution_count": 81,
     "metadata": {},
     "output_type": "execute_result"
    },
    {
     "data": {
      "image/png": "[encoded data removed]",
      "text/plain": [
       "<Figure size 640x480 with 2 Axes>"
      ]
     },
     "metadata": {},
     "output_type": "display_data"
    }
   ],
   "source": [
    "sns.heatmap(rft.feature_importances_.reshape(28, 28))"
   ]
  },
  {
   "cell_type": "code",
   "execution_count": 56,
   "metadata": {},
   "outputs": [
    {
     "data": {
      "text/plain": [
       "(1, 784)"
      ]
     },
     "execution_count": 56,
     "metadata": {},
     "output_type": "execute_result"
    }
   ],
   "source": [
    "row.shape"
   ]
  },
  {
   "cell_type": "code",
   "execution_count": 58,
   "metadata": {},
   "outputs": [
    {
     "name": "stderr",
     "output_type": "stream",
     "text": [
      "c:\\Users\\nithi\\AppData\\Local\\Programs\\Python\\Python311\\Lib\\site-packages\\sklearn\\base.py:465: UserWarning: X does not have valid feature names, but RandomForestClassifier was fitted with feature names\n",
      "  warnings.warn(\n"
     ]
    },
    {
     "data": {
      "text/plain": [
       "array([7], dtype=int64)"
      ]
     },
     "execution_count": 58,
     "metadata": {},
     "output_type": "execute_result"
    }
   ],
   "source": [
    "rf.predict(row)"
   ]
  },
  {
   "cell_type": "code",
   "execution_count": 91,
   "metadata": {},
   "outputs": [],
   "source": [
    "import numpy as np\n",
    "import tkinter as tk\n",
    "from tkinter import Canvas\n",
    "from PIL import Image, ImageDraw, ImageOps\n",
    "import cv2\n",
    "import joblib  # To load the trained model\n",
    "\n",
    "WIDTH, HEIGHT = 280, 280  # Large canvas size for better drawing\n",
    "BG_COLOR = \"black\"\n",
    "FG_COLOR = \"white\"\n",
    "\n",
    "\n",
    "class DigitRecognizerApp:\n",
    "    def __init__(self, root):\n",
    "        self.root = root\n",
    "        self.root.title(\"Draw a Digit\")\n",
    "\n",
    "        # Create Canvas for Drawing\n",
    "        self.canvas = Canvas(root, width=WIDTH, height=HEIGHT, bg=BG_COLOR)\n",
    "        self.canvas.pack()\n",
    "\n",
    "        # Buttons\n",
    "        self.btn_predict = tk.Button(root, text=\"Predict\", command=self.predict_digit)\n",
    "        self.btn_predict.pack()\n",
    "        self.btn_clear = tk.Button(root, text=\"Clear\", command=self.clear_canvas)\n",
    "        self.btn_clear.pack()\n",
    "\n",
    "        # Bind Mouse Events\n",
    "        self.canvas.bind(\"<B1-Motion>\", self.draw)\n",
    "\n",
    "        # Image setup\n",
    "        self.image = Image.new(\"L\", (WIDTH, HEIGHT), 0)  # Grayscale image\n",
    "        self.draw = ImageDraw.Draw(self.image)\n",
    "\n",
    "    def draw(self, event):\n",
    "        \"\"\"Draw on canvas\"\"\"\n",
    "        x, y = event.x, event.y\n",
    "        radius = 10  # Thickness of brush\n",
    "        self.canvas.create_oval(\n",
    "            x - radius,\n",
    "            y - radius,\n",
    "            x + radius,\n",
    "            y + radius,\n",
    "            fill=FG_COLOR,\n",
    "            outline=FG_COLOR,\n",
    "        )\n",
    "        self.draw.ellipse([x - radius, y - radius, x + radius, y + radius], fill=255)\n",
    "\n",
    "    def preprocess_image(self):\n",
    "        \"\"\"Convert canvas drawing to 28x28 binary (0 or 1) matrix\"\"\"\n",
    "        img = self.image.resize((28, 28))  # Resize to MNIST size\n",
    "        # img = ImageOps.invert(img)  # Invert colors (black background, white digit)\n",
    "        img = img.convert(\"L\")  # Convert to grayscale\n",
    "\n",
    "        img_array = np.array(img)  # Convert to NumPy array\n",
    "        img_array = (img_array > 128).astype(np.uint8)  # Convert to binary (0 or 1)\n",
    "\n",
    "        return img_array.flatten().reshape(1, -1)  # Reshape for model input\n",
    "\n",
    "    def predict_digit(self):\n",
    "        \"\"\"Predict digit using trained Random Forest model\"\"\"\n",
    "        img_array = self.preprocess_image()\n",
    "        print(img_array.reshape(28,28))\n",
    "        prediction = rf.predict(img_array)\n",
    "        print(f\"Predicted Digit: {prediction[0]}\")\n",
    "\n",
    "    def clear_canvas(self):\n",
    "        \"\"\"Clear the canvas for a new drawing\"\"\"\n",
    "        self.canvas.delete(\"all\")\n",
    "        self.image = Image.new(\"L\", (WIDTH, HEIGHT), 0)\n",
    "        self.draw = ImageDraw.Draw(self.image)"
   ]
  },
  {
   "cell_type": "code",
   "execution_count": null,
   "metadata": {},
   "outputs": [],
   "source": [
    "root = tk.Tk()\n",
    "app = DigitRecognizerApp(root)\n",
    "root.mainloop()"
   ]
  },
  {
   "cell_type": "code",
   "execution_count": null,
   "metadata": {},
   "outputs": [],
   "source": []
  }
 ],
 "metadata": {
  "kernelspec": {
   "display_name": "Python 3",
   "language": "python",
   "name": "python3"
  },
  "language_info": {
   "codemirror_mode": {
    "name": "ipython",
    "version": 3
   },
   "file_extension": ".py",
   "mimetype": "text/x-python",
   "name": "python",
   "nbconvert_exporter": "python",
   "pygments_lexer": "ipython3",
   "version": "3.11.9"
  }
 },
 "nbformat": 4,
 "nbformat_minor": 2
}
